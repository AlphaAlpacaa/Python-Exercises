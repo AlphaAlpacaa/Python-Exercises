{
 "cells": [
  {
   "cell_type": "code",
   "execution_count": 1,
   "id": "nonprofit-cologne",
   "metadata": {},
   "outputs": [
    {
     "name": "stdin",
     "output_type": "stream",
     "text": [
      "Lütfen İsminizi Giriniz: Alp Erem\n",
      "Lütfen Cinsiyetinizi Giriniz(E/K): E\n"
     ]
    },
    {
     "name": "stdout",
     "output_type": "stream",
     "text": [
      "Hoşgeldiniz Alp Erem Bey\n"
     ]
    },
    {
     "name": "stdin",
     "output_type": "stream",
     "text": [
      "Kayit olmak ister misiniz?\n",
      "(Eger kayit olmazsaniz sitemizin butun kaynaklarindan yararlanamazsiniz.)\n",
      "sitemiz aldigi kayitlari kimseyle paylasmamaktadir.(E/H): E\n",
      "Adiniz: Alp\n",
      "Soyadiniz: Erem\n",
      "Kullaniciadiniz: AlphaAlpaca\n",
      "Parolaniz: vfdbtyngumjh\n",
      "Parolanizi tekrarlayin: fgh\n"
     ]
    },
    {
     "name": "stdout",
     "output_type": "stream",
     "text": [
      "Lutfen parolayi ve tekrarini ayni giriniz.\n"
     ]
    },
    {
     "name": "stdin",
     "output_type": "stream",
     "text": [
      "Parolaniz: alp\n",
      "Parolanizi tekrarlayin: alp\n",
      "Sifrenizi unutmaniz durumunda karsılasacagınız ek soruyu seciniz\n",
      "(ilkokul ogrtmeninizin adi?:z)\n",
      "(en sevdiginiz renk?:x)\n",
      "(anne adinizin 3. harfi?:y) z\n",
      "ilkokul ogrtmeninizin adi?: a\n",
      "Mail adresiniz: advsb\n",
      "Dogum tarihiniz: rvtbhy\n"
     ]
    },
    {
     "name": "stdout",
     "output_type": "stream",
     "text": [
      "['Alp', 'Erem', 'E', 'AlphaAlpaca', 'alp', 'advsb', 'rvtbhy']\n"
     ]
    },
    {
     "name": "stdin",
     "output_type": "stream",
     "text": [
      "bütün bilgileriniz doğru mu?(E/H): E\n"
     ]
    },
    {
     "name": "stdout",
     "output_type": "stream",
     "text": [
      "Sisteme Basariyla Kaydoldunuz...\n"
     ]
    },
    {
     "name": "stdin",
     "output_type": "stream",
     "text": [
      "Kullanici Adi: AlphaAlpaca\n",
      "Sifre: alp\n"
     ]
    },
    {
     "name": "stdout",
     "output_type": "stream",
     "text": [
      "Sisteme giriliyor...\n",
      "Sisteme Hosgeldiniz\n"
     ]
    }
   ],
   "source": [
    "#Kullanici Hesabi Acma\n",
    "\n",
    "a = [\"ad\",\"soyad\",\"cinsiyet\",\"kullaniciadi\",\"parola\",\"mail\",\"dogumtarihi\"]\n",
    "b = input(\"Lütfen İsminizi Giriniz:\")\n",
    "while True:\n",
    "    c = input(\"Lütfen Cinsiyetinizi Giriniz(E/K):\")\n",
    "    if (c == \"E\"):\n",
    "        print(\"Hoşgeldiniz\",b,\"Bey\")\n",
    "        break\n",
    "    elif (c == \"K\"):\n",
    "        print(\"Hoşgeldiniz\",b,\"Hanım\")\n",
    "        break\n",
    "    else:\n",
    "        print(\"Hata! Lütfen Tekrar Deneyiniz...\")\n",
    "d = input(\"Kayit olmak ister misiniz?\\n(Eger kayit olmazsaniz sitemizin butun kaynaklarindan yararlanamazsiniz.)\\nsitemiz aldigi kayitlari kimseyle paylasmamaktadir.(E/H):\")        \n",
    "if (d == \"E\"):\n",
    "        while True:\n",
    "            e = input(\"Adiniz:\")\n",
    "            f = input(\"Soyadiniz:\")\n",
    "            g = input(\"Kullaniciadiniz:\")\n",
    "            \n",
    "            while True:\n",
    "                h = input(\"Parolaniz:\")\n",
    "                j = input(\"Parolanizi tekrarlayin:\")\n",
    "                if (h == j):\n",
    "                    break\n",
    "                else:\n",
    "                    print(\"Lutfen parolayi ve tekrarini ayni giriniz.\")\n",
    "            p = input(\"Sifrenizi unutmaniz durumunda karsılasacagınız ek soruyu seciniz\\n(ilkokul ogrtmeninizin adi?:z)\\n(en sevdiginiz renk?:x)\\n(anne adinizin 3. harfi?:y)\")\n",
    "            if (p == \"z\"):\n",
    "                    aa = input(\"ilkokul ogrtmeninizin adi?:\")\n",
    "            elif (p == \"x\"):\n",
    "                    bb = input(\"en sevdiginiz renk?:\")\n",
    "            else:\n",
    "                    cc = input(\"anne adinizin 3. harfi?:\")\n",
    "            k = input(\"Mail adresiniz:\")\n",
    "            l = input(\"Dogum tarihiniz:\")\n",
    "            a[0] = e\n",
    "            a[1] = f\n",
    "            a[2] = d\n",
    "            a[3] = g\n",
    "            a[4] = h\n",
    "            a[5] = k\n",
    "            a[6] = l\n",
    "            print(a)\n",
    "            i = input(\"bütün bilgileriniz doğru mu?(E/H):\")\n",
    "            if (i == \"E\"):\n",
    "                    print(\"Sisteme Basariyla Kaydoldunuz...\")\n",
    "                    break\n",
    "            elif (i == \"H\"):\n",
    "                    while True:\n",
    "                        m = input(\"Hangi bilginiz yanlis?ad icin(e),soyad icin(f),kullaniciadi icin(g),mail adresi icin(k),dogumtarihi icin(l) tusuna basın.\")\n",
    "                        if (m == \"e\"):\n",
    "                            q = input(\"Yeni Adinizi Girin:\")\n",
    "                            q == a[0]\n",
    "                        elif (m == \"f\"):\n",
    "                            w = input(\"Yeni Soyadinizi Girin:\")\n",
    "                            w == a[1]\n",
    "                        elif (m == \"g\"):\n",
    "                            n = input(\"Yeni Kullaniciadinizi Girin:\")\n",
    "                            n == a[2]\n",
    "                        elif (m == \"k\"):\n",
    "                            r = input(\"Yeni Mail Adresiinizi Girin:\")\n",
    "                            r == a[3]\n",
    "                        elif (m == \"l\"):\n",
    "                            t = input(\"Yeni Dogum Tarihinizi Girin:\")\n",
    "                            t == a[4]\n",
    "                        else:\n",
    "                            print(\"Hata Lutfen Tekrar deneyiniz\")\n",
    "                        y = input(\"Degistirilecek baska bir bilginiz var mi?(E/H):\")\n",
    "                        if (y == \"H\"):\n",
    "                            print(\"Butun bilgileriniz basariyla kaydedildi...\")\n",
    "                            break\n",
    "                        else:\n",
    "                            print(\"\")\n",
    "                    break            \n",
    "                \n",
    "            else:\n",
    "                    print(\"Hata Lutfen Tekrar deneyiniz\")\n",
    "            print(a)\n",
    "            print(\"Sisteme girmek icin lutfen kullanici adi ve parolayi giriniz\")\n",
    "            \n",
    "        while True:\n",
    "            u = input(\"Kullanici Adi:\")\n",
    "            o = input(\"Sifre:\")\n",
    "            if ((u == g) and (o == h)):\n",
    "                    print(\"Sisteme giriliyor...\")\n",
    "                    print(\"Sisteme Hosgeldiniz\")\n",
    "                    break\n",
    "            elif ((u != g) and (o == h)):\n",
    "                    print(\"Yanlis Kullanici Adi\\nLutfen tekrar deneyiniz\")\n",
    "            elif ((u == g) and (o != h)):\n",
    "                    print(\"Yanlis Parola\")\n",
    "                    print(\"Sifreyi degistirmek ister misiniz?(E/H)\")\n",
    "                    cevap = input()\n",
    "                    if (cevap == \"E\"): \n",
    "                        while True:\n",
    "                            if (p == \"z\"):\n",
    "                                dd = input(\"ilkokul ogrtmeninizin adi?:\")\n",
    "                                if (dd == aa):\n",
    "                                    break\n",
    "                                else:\n",
    "                                    print()\n",
    "                            elif (p == \"x\"):\n",
    "                                ee = input(\"en sevdiginiz renk?:\")\n",
    "                                if (ee == bb):\n",
    "                                    break\n",
    "                                else: \n",
    "                                    print()\n",
    "                            else:\n",
    "                                ff = input(\"anne adinizin 3. harfi?:\")\n",
    "                                if (ff == cc):\n",
    "                                    break\n",
    "                                else:\n",
    "                                    print()\n",
    "                        while True:\n",
    "                            yeniparola =  input(\"Yeni Sifrenizi Girin:\")\n",
    "                            yeniparola1 = input(\"Yeni Sifrenizi Tekrar Girin:\")\n",
    "                            if (yeniparola == yeniparola1):\n",
    "                                    break\n",
    "                            else:\n",
    "                                    print(\"Lutfen parolayi ve tekrarini ayni giriniz.\")\n",
    "                        print(\"Lutfen Bekleyin\")\n",
    "                        h = yeniparola\n",
    "                        print(\"Sifre Basariyla Kaydedildi\")\n",
    "                    elif (cevap == \"H\"):\n",
    "                        print(\"Lutfen Tekrar Deneyin!\")\n",
    "                    else:\n",
    "                        print(\"Hata! Tekrar Deneyin\")\n",
    "            elif ((u != g) and (o != h)):\n",
    "                    print(\"Hatali Sifre-Kullanici Adi Kombinasyonu\\nLutfen tekrar deneyiniz\")\n",
    "            else:\n",
    "                    print(\"HATA Sistem yanlis calisiyor\\nLutfen Sayfayi Yenileyin\")\n",
    "elif (d == \"H\"):\n",
    "        print(\"Sisteme giriliyor...\")\n",
    "        print(\"Kisitli sisteme hosgeldiniz\") \n",
    "else:  \n",
    "        print(\"Hata! Lütfen Tekrar Deneyiniz...\")          "
   ]
  },
  {
   "cell_type": "code",
   "execution_count": 1,
   "id": "instructional-stopping",
   "metadata": {},
   "outputs": [
    {
     "name": "stdin",
     "output_type": "stream",
     "text": [
      "Telefon Rehberine Hoşgeldiniz,\n",
      " Lütfen yapmak istediğinizi seçin:\n",
      " (kişi eklemek için e, kişi güncellemek için g, rehberi görmek için r, kişinini numarasını görmek için n, çıkmak için c yazınız.) e\n",
      "İsim: Sude\n",
      "Telefon numarası: 05330880626\n",
      "Telefon Rehberine Hoşgeldiniz,\n",
      " Lütfen yapmak istediğinizi seçin:\n",
      " (kişi eklemek için e, kişi güncellemek için g, rehberi görmek için r, kişinini numarasını görmek için n, çıkmak için c yazınız.) n\n",
      "İsim: alp\n"
     ]
    },
    {
     "name": "stdout",
     "output_type": "stream",
     "text": [
      "Böyle bir kişi bulunamadı, lütfen tekrar deneyiniz\n"
     ]
    },
    {
     "name": "stdin",
     "output_type": "stream",
     "text": [
      "İsim: Sude\n"
     ]
    },
    {
     "name": "stdout",
     "output_type": "stream",
     "text": [
      "05330880626\n"
     ]
    },
    {
     "name": "stdin",
     "output_type": "stream",
     "text": [
      "Telefon Rehberine Hoşgeldiniz,\n",
      " Lütfen yapmak istediğinizi seçin:\n",
      " (kişi eklemek için e, kişi güncellemek için g, rehberi görmek için r, kişinini numarasını görmek için n, çıkmak için c yazınız.) a\n"
     ]
    },
    {
     "name": "stdout",
     "output_type": "stream",
     "text": [
      "Hatalı giriş, lütfen tekrar deneyinz...\n"
     ]
    },
    {
     "name": "stdin",
     "output_type": "stream",
     "text": [
      "Telefon Rehberine Hoşgeldiniz,\n",
      " Lütfen yapmak istediğinizi seçin:\n",
      " (kişi eklemek için e, kişi güncellemek için g, rehberi görmek için r, kişinini numarasını görmek için n, çıkmak için c yazınız.) c\n"
     ]
    },
    {
     "name": "stdout",
     "output_type": "stream",
     "text": [
      "Rehberden çıkıldı...\n"
     ]
    }
   ],
   "source": [
    "#Telefon rehberi uygulaması\n",
    "Rehber = {}\n",
    "\n",
    "def kisi_ekle():\n",
    "    isim = input(\"İsim:\")\n",
    "    while True:\n",
    "        no = input(\"Telefon numarası:\")\n",
    "        if no[0] != \"0\":\n",
    "            print(\"Telefon numarası 0 ile başlamalı\")\n",
    "        elif len(no) != 11:\n",
    "            print(\"Telefon numarası 11 haneli olmalı\")\n",
    "        elif len(no) == 11:\n",
    "            Rehber[isim] = no\n",
    "            break\n",
    "        else:\n",
    "            print(\"Hata! Lütfen tekrar deneyin.\")\n",
    "\n",
    "def guncelle():\n",
    "    while True:\n",
    "        isim = input(\"İsim:\")\n",
    "        if isim in Rehber.keys():\n",
    "            no = input(\"Telefon numarası:\")\n",
    "            Rehber[isim] = no\n",
    "            print(\"Kişi başarıyla güncellendi\")\n",
    "            break\n",
    "        else:\n",
    "            print(\"Böyle bir kişi bulunamadı, lütfen tekrar deneyiniz\")\n",
    "\n",
    "def rehber_goruntule():\n",
    "    print(Rehber)\n",
    "\n",
    "def numarayi_goster():\n",
    "    while True:\n",
    "        isim = input(\"İsim:\")\n",
    "        if isim in Rehber.keys():\n",
    "            print(Rehber[isim])\n",
    "            break\n",
    "        else:\n",
    "            print(\"Böyle bir kişi bulunamadı, lütfen tekrar deneyiniz\")\n",
    "\n",
    "while True:\n",
    "    Giris = input(\n",
    "        \"Telefon Rehberine Hoşgeldiniz,\\n Lütfen yapmak istediğinizi seçin:\\n (kişi eklemek için e, kişi güncellemek için g, rehberi görmek için r, kişinini numarasını görmek için n, çıkmak için c yazınız.)\")\n",
    "    if Giris == \"e\":\n",
    "        kisi_ekle()\n",
    "    elif Giris == \"g\":\n",
    "        guncelle()\n",
    "    elif Giris == \"r\":\n",
    "        rehber_goruntule()\n",
    "    elif Giris == \"n\":\n",
    "        numarayi_goster()\n",
    "    elif Giris == \"c\":\n",
    "        break\n",
    "    else:\n",
    "        print(\"Hatalı giriş, lütfen tekrar deneyinz...\")\n",
    "print(\"Rehberden çıkıldı...\")"
   ]
  },
  {
   "cell_type": "code",
   "execution_count": 1,
   "id": "caroline-vietnam",
   "metadata": {},
   "outputs": [
    {
     "name": "stdout",
     "output_type": "stream",
     "text": [
      "Hesap Makinesine Hoşgeldiniz...Lütfen yapmak istediğiniz işlemi seçiniz...\n"
     ]
    },
    {
     "name": "stdin",
     "output_type": "stream",
     "text": [
      "toplama için s, çıkarma için d,çarpma için m,bölme için p, üslü işlemler için e, kök işlemleri için r, çıkmak için f ye basınız. p\n",
      "ilk sayı: 6\n",
      "ikinci sayı: 0\n"
     ]
    },
    {
     "name": "stdout",
     "output_type": "stream",
     "text": [
      "Hata, bir sayı sıfıra bölünemez\n"
     ]
    },
    {
     "name": "stdin",
     "output_type": "stream",
     "text": [
      "ikinci sayı: 9\n"
     ]
    },
    {
     "name": "stdout",
     "output_type": "stream",
     "text": [
      "6 / 9 = 0.6666666666666666\n"
     ]
    },
    {
     "name": "stdin",
     "output_type": "stream",
     "text": [
      "toplama için s, çıkarma için d,çarpma için m,bölme için p, üslü işlemler için e, kök işlemleri için r, çıkmak için f ye basınız. f\n"
     ]
    },
    {
     "name": "stdout",
     "output_type": "stream",
     "text": [
      "Hesap makinesinden çıkılıyor, iyi günler...\n"
     ]
    }
   ],
   "source": [
    "#Hesap Makinesi\n",
    "def topla():\n",
    "    first = input(\"ilk sayı:\")\n",
    "    second = input(\"ikinci sayı:\")\n",
    "    sum = int(first) + int(second)\n",
    "    print(first, \"+\", second, \"=\", sum)\n",
    "def cikar():\n",
    "    first = input(\"ilk sayı:\")\n",
    "    second = input(\"ikinci sayı:\")\n",
    "    difference = int(first) - int(second)\n",
    "    print(first, \"-\", second, \"=\", difference)\n",
    "def carp():\n",
    "    first = input(\"ilk sayı:\")\n",
    "    second = input(\"ikinci sayı:\")\n",
    "    multiplication = int(first) * int(second)\n",
    "    print(first, \"x\", second, \"=\", multiplication)\n",
    "def bol():\n",
    "    first = input(\"ilk sayı:\")\n",
    "    while True:\n",
    "        second = input(\"ikinci sayı:\")\n",
    "        if second == \"0\":\n",
    "            print(\"Hata, bir sayı sıfıra bölünemez\")\n",
    "        else:\n",
    "            break\n",
    "    partition = int(first) / int(second)\n",
    "    print(first, \"/\", second, \"=\", partition)\n",
    "def kokunu_al():\n",
    "    base = input(\"ilk sayı:\")\n",
    "    root = input(\"ikinci sayı:\")\n",
    "    radical_number = int(base) ** (1/int(root))\n",
    "    print(base,\"^(1/\",root,\")\", \"=\", radical_number)\n",
    "def ussunu_al():\n",
    "    base = input(\"ilk sayı:\")\n",
    "    exponent = input(\"ikinci sayı:\")\n",
    "    exponential_number = int(base) ** int(exponent)\n",
    "    print(base, \"^\", exponent, \"=\", exponential_number)\n",
    "\n",
    "print(\"Hesap Makinesine Hoşgeldiniz...\"\n",
    "      \"Lütfen yapmak istediğiniz işlemi seçiniz...\")\n",
    "while True:\n",
    "    secim = input(\"toplama için s, çıkarma için d,çarpma için m,bölme için p,\"\n",
    "      \" üslü işlemler için e, kök işlemleri için r, çıkmak için f ye basınız.\")\n",
    "    if secim == \"s\":\n",
    "        topla()\n",
    "    elif secim == \"d\":\n",
    "        cikar()\n",
    "    elif secim == \"m\":\n",
    "        carp()\n",
    "    elif secim == \"p\":\n",
    "        bol()\n",
    "    elif secim == \"e\":\n",
    "        ussunu_al()\n",
    "    elif secim == \"r\":\n",
    "        kokunu_al()\n",
    "    elif secim == \"f\":\n",
    "        print(\"Hesap makinesinden çıkılıyor, \"\n",
    "              \"iyi günler...\")\n",
    "        break\n",
    "    else:\n",
    "        print(\"Hata, lütfen tekrar deneyiniz.\")\n",
    "\n"
   ]
  },
  {
   "cell_type": "code",
   "execution_count": null,
   "id": "frequent-shock",
   "metadata": {},
   "outputs": [],
   "source": []
  }
 ],
 "metadata": {
  "kernelspec": {
   "display_name": "Python 3",
   "language": "python",
   "name": "python3"
  },
  "language_info": {
   "codemirror_mode": {
    "name": "ipython",
    "version": 3
   },
   "file_extension": ".py",
   "mimetype": "text/x-python",
   "name": "python",
   "nbconvert_exporter": "python",
   "pygments_lexer": "ipython3",
   "version": "3.9.1"
  }
 },
 "nbformat": 4,
 "nbformat_minor": 5
}
